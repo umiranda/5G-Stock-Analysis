{
 "cells": [
  {
   "cell_type": "code",
   "execution_count": 82,
   "metadata": {},
   "outputs": [],
   "source": [
    "import pandas as pd\n",
    "import yahoo_finance\n",
    "import yfinance as yf\n",
    "from yahoo_fin.stock_info import get_data\n",
    "import numpy as np\n",
    "import json\n",
    "import matplotlib.pyplot as plt\n"
   ]
  },
  {
   "cell_type": "code",
   "execution_count": 81,
   "metadata": {},
   "outputs": [
    {
     "data": {
      "text/plain": [
       "{'adi':                   open        high         low       close    adjclose  \\\n",
       " 1980-03-17    0.000000    0.764000    0.728000    0.728000    0.486944   \n",
       " 1980-03-18    0.000000    0.728000    0.708000    0.720000    0.481593   \n",
       " 1980-03-19    0.000000    0.736000    0.720000    0.720000    0.481593   \n",
       " 1980-03-20    0.000000    0.728000    0.720000    0.720000    0.481593   \n",
       " 1980-03-21    0.000000    0.720000    0.688000    0.688000    0.460189   \n",
       " ...                ...         ...         ...         ...         ...   \n",
       " 2020-12-14  142.059998  143.929993  141.660004  142.330002  142.330002   \n",
       " 2020-12-15  145.259995  145.259995  143.490005  144.059998  144.059998   \n",
       " 2020-12-16  144.759995  144.759995  141.570007  142.800003  142.800003   \n",
       " 2020-12-17  143.550003  143.869995  142.610001  143.779999  143.779999   \n",
       " 2020-12-18  144.380005  145.000000  143.440002  144.559998  144.559998   \n",
       " \n",
       "              volume ticker  \n",
       " 1980-03-17   374600    ADI  \n",
       " 1980-03-18   211400    ADI  \n",
       " 1980-03-19   151200    ADI  \n",
       " 1980-03-20    41000    ADI  \n",
       " 1980-03-21   553000    ADI  \n",
       " ...             ...    ...  \n",
       " 2020-12-14  2214400    ADI  \n",
       " 2020-12-15  2554500    ADI  \n",
       " 2020-12-16  1583100    ADI  \n",
       " 2020-12-17  2354200    ADI  \n",
       " 2020-12-18  4230700    ADI  \n",
       " \n",
       " [10280 rows x 7 columns],\n",
       " 'avgo':                   open        high         low       close    adjclose  \\\n",
       " 2009-08-06   16.500000   16.910000   15.560000   16.180000   12.669686   \n",
       " 2009-08-07   16.150000   16.760000   16.030001   16.430000   12.865452   \n",
       " 2009-08-10   16.629999   16.629999   15.610000   15.970000   12.505249   \n",
       " 2009-08-11   15.980000   16.000000   15.500000   15.670000   12.270336   \n",
       " 2009-08-12   16.150000   16.200001   15.660000   16.000000   12.528741   \n",
       " ...                ...         ...         ...         ...         ...   \n",
       " 2020-12-14  406.529999  414.299988  406.000000  411.799988  408.320801   \n",
       " 2020-12-15  415.279999  419.390015  412.989990  418.059998  414.527924   \n",
       " 2020-12-16  418.000000  427.149994  416.959991  424.899994  421.310120   \n",
       " 2020-12-17  426.500000  430.010010  424.549988  426.100006  422.500000   \n",
       " 2020-12-18  424.799988  435.649994  422.000000  434.559998  434.559998   \n",
       " \n",
       "               volume ticker  \n",
       " 2009-08-06  24197800   AVGO  \n",
       " 2009-08-07   2454300   AVGO  \n",
       " 2009-08-10   2421000   AVGO  \n",
       " 2009-08-11   2305400   AVGO  \n",
       " 2009-08-12   1451300   AVGO  \n",
       " ...              ...    ...  \n",
       " 2020-12-14   2611600   AVGO  \n",
       " 2020-12-15   2122100   AVGO  \n",
       " 2020-12-16   2316000   AVGO  \n",
       " 2020-12-17   1715200   AVGO  \n",
       " 2020-12-18   4523100   AVGO  \n",
       " \n",
       " [2864 rows x 7 columns]}"
      ]
     },
     "execution_count": 81,
     "metadata": {},
     "output_type": "execute_result"
    }
   ],
   "source": [
    "ticker_list = [\"adi\", \"avgo\"]\n",
    "               #\"amt\", \"cci\", \"eric\", \"qcom\", \"tmus\"                \n",
    "\n",
    "# amazon_weekly= get_data(\"adi\", start_date=\"01/01/2020\", end_date=\"30/11/2020\", index_as_date = True, interval=\"1wk\")\n",
    "# amazon_weekly\n",
    "\n",
    "historical_datas = {}\n",
    "for ticker in ticker_list:\n",
    "    historical_datas[ticker] = get_data(ticker)\n",
    "historical_datas"
   ]
  },
  {
   "cell_type": "code",
   "execution_count": 91,
   "metadata": {},
   "outputs": [
    {
     "ename": "AttributeError",
     "evalue": "'dict' object has no attribute 'DataReader'",
     "output_type": "error",
     "traceback": [
      "\u001b[0;31m--------------------------------------------------------------------------\u001b[0m",
      "\u001b[0;31mAttributeError\u001b[0m                           Traceback (most recent call last)",
      "\u001b[0;32m<ipython-input-91-e146fccbc2a0>\u001b[0m in \u001b[0;36m<module>\u001b[0;34m\u001b[0m\n\u001b[1;32m      1\u001b[0m \u001b[0mstart_date\u001b[0m \u001b[0;34m=\u001b[0m \u001b[0;34m'2020-01-01'\u001b[0m\u001b[0;34m\u001b[0m\u001b[0;34m\u001b[0m\u001b[0m\n\u001b[1;32m      2\u001b[0m \u001b[0mend_date\u001b[0m \u001b[0;34m=\u001b[0m \u001b[0;34m'2020-11-30'\u001b[0m\u001b[0;34m\u001b[0m\u001b[0;34m\u001b[0m\u001b[0m\n\u001b[0;32m----> 3\u001b[0;31m \u001b[0mpanel_data\u001b[0m \u001b[0;34m=\u001b[0m \u001b[0mhistorical_datas\u001b[0m\u001b[0;34m.\u001b[0m\u001b[0mDataReader\u001b[0m\u001b[0;34m(\u001b[0m\u001b[0;34m'INPX'\u001b[0m\u001b[0;34m,\u001b[0m \u001b[0;34m'google'\u001b[0m\u001b[0;34m,\u001b[0m \u001b[0mstart_date\u001b[0m\u001b[0;34m,\u001b[0m \u001b[0mend_date\u001b[0m\u001b[0;34m)\u001b[0m\u001b[0;34m\u001b[0m\u001b[0;34m\u001b[0m\u001b[0m\n\u001b[0m",
      "\u001b[0;31mAttributeError\u001b[0m: 'dict' object has no attribute 'DataReader'"
     ]
    }
   ],
   "source": [
    "start_date = '2020-01-01'\n",
    "end_date = '2020-11-30'\n",
    "panel_data = historical_datas.DataReader('INPX', 'google', start_date, end_date)"
   ]
  },
  {
   "cell_type": "code",
   "execution_count": null,
   "metadata": {},
   "outputs": [],
   "source": []
  }
 ],
 "metadata": {
  "kernelspec": {
   "display_name": "Python 3",
   "language": "python",
   "name": "python3"
  },
  "language_info": {
   "codemirror_mode": {
    "name": "ipython",
    "version": 3
   },
   "file_extension": ".py",
   "mimetype": "text/x-python",
   "name": "python",
   "nbconvert_exporter": "python",
   "pygments_lexer": "ipython3",
   "version": "3.8.5"
  }
 },
 "nbformat": 4,
 "nbformat_minor": 4
}
